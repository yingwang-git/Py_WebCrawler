{
 "cells": [
  {
   "cell_type": "markdown",
   "metadata": {
    "pycharm": {
     "name": "#%% md\n"
    }
   },
   "source": [
    "# Multiple Threading\n",
    "\n",
    "1. Preparation\n",
    "2. Basic Usage\n",
    "3. Thread Pool"
   ]
  },
  {
   "cell_type": "markdown",
   "metadata": {},
   "source": [
    "# Multiple Processing"
   ]
  },
  {
   "cell_type": "markdown",
   "metadata": {},
   "source": [
    "## Preparation"
   ]
  },
  {
   "cell_type": "code",
   "execution_count": 1,
   "metadata": {
    "ExecuteTime": {
     "end_time": "2022-09-09T10:13:52.960706Z",
     "start_time": "2022-09-09T10:13:52.946692Z"
    },
    "pycharm": {
     "name": "#%%\n"
    }
   },
   "outputs": [],
   "source": [
    "import time\n",
    "from threading import Thread   # multiple threading\n",
    "from concurrent.futures import ThreadPoolExecutor  # thread pool"
   ]
  },
  {
   "cell_type": "code",
   "execution_count": 2,
   "metadata": {
    "ExecuteTime": {
     "end_time": "2022-09-09T10:13:53.777448Z",
     "start_time": "2022-09-09T10:13:53.763436Z"
    },
    "pycharm": {
     "name": "#%%\n"
    }
   },
   "outputs": [],
   "source": [
    "# define a virtual task to compare the running time\n",
    "\n",
    "def cal_sum(name, number):\n",
    "    start_time = time.time()\n",
    "    total = 0\n",
    "    for num in range(number):\n",
    "        total = num + total\n",
    "    end_time = time.time()\n",
    "\n",
    "    print(f'{name} runtime: {end_time - start_time}s')"
   ]
  },
  {
   "cell_type": "code",
   "execution_count": 18,
   "metadata": {
    "ExecuteTime": {
     "end_time": "2022-09-09T10:14:07.361434Z",
     "start_time": "2022-09-09T10:13:54.879450Z"
    },
    "pycharm": {
     "name": "#%%\n"
    }
   },
   "outputs": [],
   "source": [
    "# define a normal execute method\n",
    "\n",
    "def normal_execute():\n",
    "    start_time = time.time()\n",
    "    cal_sum(name='normal execute task 1', number=10**8)\n",
    "    cal_sum(name='normal execute task 2', number=2*10**8)\n",
    "    cal_sum(name='normal execute task 3', number=3*10**8)\n",
    "    end_time = time.time()\n",
    "    print(f'total runtime using normal execute: {end_time - start_time}s')"
   ]
  },
  {
   "cell_type": "code",
   "execution_count": 19,
   "metadata": {
    "pycharm": {
     "name": "#%%\n"
    }
   },
   "outputs": [],
   "source": [
    "# multiple treading\n",
    "\n",
    "def multi_thread():\n",
    "    start_thread = time.time()\n",
    "    t1 = Thread(target=cal_sum, args=('multi threading task 1', 10**8))  # create new thread，args should be tuple\n",
    "    t1.start()  # 告诉线程可以开始执行，具体执行开始时间由 CPU 决定\n",
    "    t2 = Thread(target=cal_sum, args=('multi threading task 2', 2*10**8))\n",
    "    t2.start()\n",
    "    t3 = Thread(target=cal_sum, args=('multi threading task 3', 3*10**8))\n",
    "    t3.start()\n",
    "    t1.join()  # join() 方法，等待线程执行结束再往下执行主程序（为了统计时间）\n",
    "    t2.join()\n",
    "    t3.join()\n",
    "    end_thread = time.time()\n",
    "    print(f'total runtime using multiple threading {end_thread - start_thread}s')"
   ]
  },
  {
   "cell_type": "code",
   "execution_count": 20,
   "outputs": [
    {
     "name": "stdout",
     "output_type": "stream",
     "text": [
      "------------------------------\n",
      "normal execute task 1 running time: 4.353458404541016s\n",
      "normal execute task 2 running time: 8.503709077835083s\n",
      "normal execute task 3 running time: 12.571064949035645s\n",
      "total running time using normal execute: 25.428232431411743s\n",
      "------------------------------\n",
      "multi threading task 1 running time: 11.886439085006714s\n",
      "multi threading task 2 running time: 19.97703456878662s\n",
      "multi threading task 3 running time: 24.617693662643433s\n",
      "total running time using multiple threading 24.712781190872192s\n"
     ]
    }
   ],
   "source": [
    "print('-'*30)\n",
    "normal_execute()\n",
    "print('-'*30)\n",
    "multi_thread()"
   ],
   "metadata": {
    "collapsed": false,
    "pycharm": {
     "name": "#%%\n"
    }
   }
  },
  {
   "cell_type": "markdown",
   "source": [
    "---\n",
    "The print output shows that in normal execution, the total running time is the sum of running time of all tasks.\n",
    "In multi threading execution, tasks run simultaneously and thus the total running time equals to the time of task using the longest time."
   ],
   "metadata": {
    "collapsed": false,
    "pycharm": {
     "name": "#%% md\n"
    }
   }
  },
  {
   "cell_type": "markdown",
   "metadata": {
    "pycharm": {
     "name": "#%% md\n"
    }
   },
   "source": [
    "## Thread Pool"
   ]
  },
  {
   "cell_type": "markdown",
   "source": [
    "\n",
    "---\n",
    "We can use a thread pool to create many threads in one time."
   ],
   "metadata": {
    "collapsed": false,
    "pycharm": {
     "name": "#%% md\n"
    }
   }
  },
  {
   "cell_type": "code",
   "execution_count": 28,
   "metadata": {
    "pycharm": {
     "name": "#%%\n"
    }
   },
   "outputs": [
    {
     "name": "stdout",
     "output_type": "stream",
     "text": [
      "Task 0 running time: 0.07106447219848633sTask 1 running time: 0.054609060287475586s\n",
      "Task 2 running time: 0.07763028144836426s\n",
      "Task 3 running time: 0.09708786010742188s\n",
      "Task 4 running time: 0.07506871223449707s\n",
      "\n",
      "Task 7 running time: 0.11610722541809082sTask 6 running time: 0.1631481647491455sTask 5 running time: 0.1851670742034912s\n",
      "\n",
      "Task 8 running time: 0.17615962028503418s\n",
      "Task 12 running time: 0.10309433937072754s\n",
      "Task 10 running time: 0.1511380672454834s\n",
      "Task 16 running time: 0.07106494903564453s\n",
      "\n",
      "Task 9 running time: 0.36933469772338867sTask 14 running time: 0.22420454025268555s\n",
      "\n",
      "Task 13 running time: 0.2642405033111572sTask 11 running time: 0.30327582359313965s\n",
      "\n",
      "Task 23 running time: 0.06906366348266602s\n",
      "Task 21 running time: 0.1781625747680664s\n",
      "Task 17 running time: 0.3563241958618164sTask 20 running time: 0.24822640419006348sTask 22 running time: 0.29026365280151367sTask 18 running time: 0.4434032440185547s\n",
      "\n",
      "\n",
      "Task 25 running time: 0.18016409873962402s\n",
      "Task 29 running time: 0.11710929870605469sTask 24 running time: 0.38535284996032715s\n",
      "\n",
      "Task 28 running time: 0.17916584014892578sTask 30 running time: 0.1391286849975586s\n",
      "Task 26 running time: 0.23721933364868164sTask 19 running time: 0.5985486507415771s\n",
      "\n",
      "\n",
      "\n",
      "Task 15 running time: 0.7156546115875244sTask 27 running time: 0.24122214317321777s\n",
      "\n",
      "Task 31 running time: 0.18617534637451172s\n",
      "Task 33 running time: 0.10009264945983887s\n",
      "Task 37 running time: 0.13692426681518555sTask 35 running time: 0.22900962829589844s\n",
      "Task 36 running time: 0.2620575428009033s\n",
      "Task 32 running time: 0.40018677711486816sTask 38 running time: 0.2820773124694824s\n",
      "\n",
      "Task 34 running time: 0.4172017574310303sTask 43 running time: 0.19619965553283691s\n",
      "\n",
      "Task 46 running time: 0.1741633415222168sTask 39 running time: 0.3941829204559326s\n",
      "Task 44 running time: 0.2632460594177246sTask 47 running time: 0.19918584823608398s\n",
      "\n",
      "Task 49 running time: 0.17516350746154785sTask 50 running time: 0.16514945030212402s\n",
      "Task 45 running time: 0.3403151035308838s\n",
      "Task 41 running time: 0.45844197273254395s\n",
      "Task 42 running time: 0.5074856281280518s\n",
      "\n",
      "Task 51 running time: 0.29126501083374023sTask 53 running time: 0.10009193420410156s\n",
      "\n",
      "Task 40 running time: 0.7026641368865967sTask 52 running time: 0.2001817226409912s\n",
      "Task 54 running time: 0.11510562896728516s\n",
      "\n",
      "\n",
      "Task 55 running time: 0.21219468116760254sTask 48 running time: 0.6245753765106201sTask 57 running time: 0.16615629196166992s\n",
      "\n",
      "Task 62 running time: 0.11710643768310547s\n",
      "Task 59 running time: 0.24522638320922852s\n",
      "Task 65 running time: 0.16214752197265625sTask 56 running time: 0.4394042491912842sTask 58 running time: 0.3813507556915283sTask 64 running time: 0.22620558738708496s\n",
      "\n",
      "Task 60 running time: 0.4484114646911621s\n",
      "\n",
      "Task 69 running time: 0.1811656951904297s\n",
      "Task 68 running time: 0.2742500305175781s\n",
      "\n",
      "\n",
      "Task 61 running time: 0.5775270462036133sTask 70 running time: 0.26624226570129395sTask 72 running time: 0.29326605796813965s\n",
      "Task 66 running time: 0.4824385643005371sTask 67 running time: 0.4554135799407959s\n",
      "\n",
      "Task 76 running time: 0.21919894218444824s\n",
      "\n",
      "Task 74 running time: 0.3913559913635254s\n",
      "Task 83 running time: 0.11810660362243652sTask 80 running time: 0.27925586700439453s\n",
      "Task 78 running time: 0.3513205051422119sTask 81 running time: 0.27825307846069336s\n",
      "\n",
      "Task 77 running time: 0.4063692092895508s\n",
      "Task 85 running time: 0.16514945030212402s\n",
      "\n",
      "\n",
      "Task 88 running time: 0.07006525993347168sTask 73 running time: 0.697634220123291s\n",
      "Task 82 running time: 0.40737152099609375s\n",
      "Task 86 running time: 0.3543226718902588s\n",
      "\n",
      "Task 79 running time: 0.750683069229126s\n",
      "Task 91 running time: 0.3042774200439453sTask 93 running time: 0.279254674911499sTask 94 running time: 0.27124667167663574s\n",
      "Task 63 running time: 1.3822555541992188sTask 97 running time: 0.20218372344970703s\n",
      "\n",
      "Task 75 running time: 0.9708836078643799s\n",
      "\n",
      "\n",
      "Task 71 running time: 1.2861697673797607sTask 100 running time: 0.18016290664672852sTask 92 running time: 0.5344853401184082s\n",
      "\n",
      "Task 87 running time: 0.6946310997009277s\n",
      "Task 96 running time: 0.4524102210998535s\n",
      "Task 98 running time: 0.460418701171875sTask 89 running time: 0.732666015625s\n",
      "\n",
      "Task 102 running time: 0.19617843627929688s\n",
      "Task 84 running time: 1.000910758972168sTask 99 running time: 0.39235687255859375s\n",
      "\n",
      "Task 104 running time: 0.34030985832214355sTask 101 running time: 0.41237545013427734s\n",
      "Task 90 running time: 0.945859432220459sTask 95 running time: 0.8537766933441162s\n",
      "Task 106 running time: 0.37033629417419434s\n",
      "\n",
      "\n",
      "Task 110 running time: 0.312283992767334sTask 108 running time: 0.3863515853881836s\n",
      "Task 111 running time: 0.30527734756469727sTask 109 running time: 0.4003639221191406s\n",
      "\n",
      "Task 115 running time: 0.18116474151611328sTask 114 running time: 0.2452230453491211sTask 116 running time: 0.1931765079498291s\n",
      "Task 113 running time: 0.4303915500640869sTask 117 running time: 0.22620487213134766s\n",
      "\n",
      "\n",
      "Task 107 running time: 0.7466793060302734s\n",
      "\n",
      "\n",
      "Task 105 running time: 0.842766284942627s\n",
      "Task 125 running time: 0.2131948471069336s\n",
      "\n",
      "Task 118 running time: 0.4804372787475586sTask 129 running time: 0.16314983367919922s\n",
      "Task 120 running time: 0.47643280029296875sTask 130 running time: 0.18316650390625sTask 123 running time: 0.38234901428222656s\n",
      "Task 103 running time: 1.2131032943725586s\n",
      "Task 132 running time: 0.13011693954467773s\n",
      "Task 121 running time: 0.6245672702789307s\n",
      "\n",
      "Task 135 running time: 0.0990900993347168sTask 128 running time: 0.4013652801513672sTask 124 running time: 0.5925395488739014s\n",
      "Task 119 running time: 0.7867162227630615sTask 122 running time: 0.6946327686309814sTask 131 running time: 0.4033677577972412s\n",
      "\n",
      "Task 136 running time: 0.25122785568237305sTask 112 running time: 1.2521381378173828s\n",
      "\n",
      "Task 126 running time: 0.7096455097198486s\n",
      "\n",
      "\n",
      "Task 134 running time: 0.460418701171875s\n",
      "\n",
      "\n",
      "\n",
      "Task 141 running time: 0.22120070457458496sTask 133 running time: 0.5765242576599121s\n",
      "Task 138 running time: 0.34731578826904297s\n",
      "\n",
      "Task 139 running time: 0.34731602668762207sTask 142 running time: 0.33030200004577637sTask 149 running time: 0.1461338996887207s\n",
      "Task 145 running time: 0.24122047424316406s\n",
      "Task 140 running time: 0.4574160575866699s\n",
      "Task 127 running time: 1.0389461517333984sTask 146 running time: 0.3262975215911865sTask 156 running time: 0.05505013465881348s\n",
      "\n",
      "\n",
      "\n",
      "Task 137 running time: 0.7717018127441406sTask 144 running time: 0.4734306335449219s\n",
      "Task 147 running time: 0.4414021968841553s\n",
      "Task 157 running time: 0.22720623016357422s\n",
      "\n",
      "Task 148 running time: 0.5114657878875732sTask 154 running time: 0.3363058567047119s\n",
      "\n",
      "\n",
      "Task 153 running time: 0.42438507080078125s\n",
      "Task 159 running time: 0.30627965927124023s\n",
      "Task 160 running time: 0.3242948055267334sTask 162 running time: 0.27625131607055664s\n",
      "Task 143 running time: 0.899817943572998s\n",
      "\n",
      "\n",
      "Task 158 running time: 0.5294814109802246sTask 161 running time: 0.4524111747741699s\n",
      "Task 169 running time: 0.1981794834136963sTask 171 running time: 0.1981799602508545sTask 155 running time: 0.823749303817749sTask 151 running time: 1.0179247856140137sTask 164 running time: 0.47142815589904785s\n",
      "\n",
      "\n",
      "Task 152 running time: 0.9868957996368408s\n",
      "\n",
      "\n",
      "Task 172 running time: 0.2972698211669922s\n",
      "Task 170 running time: 0.47342991828918457sTask 179 running time: 0.0840756893157959sTask 173 running time: 0.44740796089172363sTask 163 running time: 0.806734561920166s\n",
      "Task 180 running time: 0.19617962837219238sTask 167 running time: 0.7987251281738281sTask 177 running time: 0.34231042861938477sTask 174 running time: 0.5244760513305664s\n",
      "Task 181 running time: 0.20018219947814941sTask 168 running time: 0.8117382526397705s\n",
      "\n",
      "\n",
      "Task 175 running time: 0.44640517234802246s\n",
      "Task 178 running time: 0.38434910774230957s\n",
      "Task 166 running time: 0.9188346862792969sTask 176 running time: 0.4674258232116699s\n",
      "\n",
      "Task 183 running time: 0.21819853782653809sTask 150 running time: 1.5744318962097168s\n",
      "Task 185 running time: 0.13412189483642578sTask 165 running time: 1.0369420051574707s\n",
      "Task 184 running time: 0.27825331687927246s\n",
      "Task 182 running time: 0.40236544609069824s\n",
      "\n",
      "\n",
      "\n",
      "Task 186 running time: 0.4363973140716553s\n",
      "Task 192 running time: 0.22620582580566406sTask 188 running time: 0.38034605979919434sTask 196 running time: 0.13312149047851562s\n",
      "\n",
      "\n",
      "Task 197 running time: 0.17015480995178223s\n",
      "Task 193 running time: 0.2892632484436035s\n",
      "Task 194 running time: 0.2822558879852295s\n",
      "\n",
      "\n",
      "Task 191 running time: 0.3813462257385254sTask 189 running time: 0.4303910732269287s\n",
      "Task 198 running time: 0.161146879196167s\n",
      "\n",
      "Task 195 running time: 0.30127406120300293s\n",
      "Task 190 running time: 0.455413818359375s\n",
      "\n",
      "\n",
      "Task 187 running time: 0.6055495738983154s\n",
      "\n",
      "Task 199 running time: 0.20818829536437988s\n",
      "------------------------------\n",
      "total runtime using multiple threading: 7.845532417297363s\n"
     ]
    }
   ],
   "source": [
    "# use thread pool\n",
    "start = time.time()\n",
    "with ThreadPoolExecutor(20) as t:  # use thread pool to create 50 threads\n",
    "    for i in range(200):  # run 200 tasks\n",
    "        t.submit(cal_sum, name=f\"Task {i}\", number=10**6)\n",
    "end = time.time()\n",
    "print('-'*30)\n",
    "print(f\"total runtime using multiple threading: {end - start}s\")  # codes outside \"with\" would be executed after all threads finished tasks."
   ]
  },
  {
   "cell_type": "markdown",
   "source": [
    "---\n",
    "There are some overlaps in the print output. Multiple threading works!\n",
    "\n",
    "We can also use normal execution to see how it works."
   ],
   "metadata": {
    "collapsed": false,
    "pycharm": {
     "name": "#%% md\n"
    }
   }
  },
  {
   "cell_type": "code",
   "execution_count": 29,
   "metadata": {
    "pycharm": {
     "name": "#%%\n"
    }
   },
   "outputs": [
    {
     "name": "stdout",
     "output_type": "stream",
     "text": [
      "Task 0 running time: 0.03903460502624512s\n",
      "Task 1 running time: 0.04003620147705078s\n",
      "Task 2 running time: 0.03903627395629883s\n",
      "Task 3 running time: 0.03803396224975586s\n",
      "Task 4 running time: 0.04003643989562988s\n",
      "Task 5 running time: 0.03903555870056152s\n",
      "Task 6 running time: 0.03903508186340332s\n",
      "Task 7 running time: 0.04203915596008301s\n",
      "Task 8 running time: 0.052047014236450195s\n",
      "Task 9 running time: 0.04103684425354004s\n",
      "Task 10 running time: 0.03903508186340332s\n",
      "Task 11 running time: 0.04003643989562988s\n",
      "Task 12 running time: 0.04303860664367676s\n",
      "Task 13 running time: 0.04003715515136719s\n",
      "Task 14 running time: 0.0420377254486084s\n",
      "Task 15 running time: 0.0420384407043457s\n",
      "Task 16 running time: 0.04003620147705078s\n",
      "Task 17 running time: 0.040036678314208984s\n",
      "Task 18 running time: 0.03803372383117676s\n",
      "Task 19 running time: 0.04103803634643555s\n",
      "Task 20 running time: 0.0420384407043457s\n",
      "Task 21 running time: 0.0420384407043457s\n",
      "Task 22 running time: 0.0420377254486084s\n",
      "Task 23 running time: 0.041037559509277344s\n",
      "Task 24 running time: 0.0420379638671875s\n",
      "Task 25 running time: 0.04003572463989258s\n",
      "Task 26 running time: 0.04003739356994629s\n",
      "Task 27 running time: 0.04404044151306152s\n",
      "Task 28 running time: 0.043038129806518555s\n",
      "Task 29 running time: 0.04303932189941406s\n",
      "Task 30 running time: 0.044039249420166016s\n",
      "Task 31 running time: 0.04303932189941406s\n",
      "Task 32 running time: 0.04103708267211914s\n",
      "Task 33 running time: 0.04404115676879883s\n",
      "Task 34 running time: 0.04504060745239258s\n",
      "Task 35 running time: 0.04404044151306152s\n",
      "Task 36 running time: 0.04303932189941406s\n",
      "Task 37 running time: 0.04403948783874512s\n",
      "Task 38 running time: 0.0420377254486084s\n",
      "Task 39 running time: 0.04304003715515137s\n",
      "Task 40 running time: 0.043038129806518555s\n",
      "Task 41 running time: 0.043039798736572266s\n",
      "Task 42 running time: 0.04303908348083496s\n",
      "Task 43 running time: 0.04303908348083496s\n",
      "Task 44 running time: 0.039035797119140625s\n",
      "Task 45 running time: 0.03803420066833496s\n",
      "Task 46 running time: 0.04003620147705078s\n",
      "Task 47 running time: 0.041037559509277344s\n",
      "Task 48 running time: 0.04203677177429199s\n",
      "Task 49 running time: 0.042038679122924805s\n",
      "Task 50 running time: 0.041037797927856445s\n",
      "Task 51 running time: 0.0420377254486084s\n",
      "Task 52 running time: 0.038034677505493164s\n",
      "Task 53 running time: 0.03803396224975586s\n",
      "Task 54 running time: 0.043039560317993164s\n",
      "Task 55 running time: 0.04303884506225586s\n",
      "Task 56 running time: 0.04303908348083496s\n",
      "Task 57 running time: 0.04404020309448242s\n",
      "Task 58 running time: 0.043039560317993164s\n",
      "Task 59 running time: 0.03803420066833496s\n",
      "Task 60 running time: 0.03803563117980957s\n",
      "Task 61 running time: 0.04303884506225586s\n",
      "Task 62 running time: 0.04303884506225586s\n",
      "Task 63 running time: 0.04303932189941406s\n",
      "Task 64 running time: 0.04303932189941406s\n",
      "Task 65 running time: 0.043038368225097656s\n",
      "Task 66 running time: 0.03803443908691406s\n",
      "Task 67 running time: 0.04103827476501465s\n",
      "Task 68 running time: 0.04303884506225586s\n",
      "Task 69 running time: 0.043038368225097656s\n",
      "Task 70 running time: 0.04303932189941406s\n",
      "Task 71 running time: 0.04354286193847656s\n",
      "Task 72 running time: 0.043039560317993164s\n",
      "Task 73 running time: 0.04003763198852539s\n",
      "Task 74 running time: 0.04404020309448242s\n",
      "Task 75 running time: 0.04303908348083496s\n",
      "Task 76 running time: 0.044040679931640625s\n",
      "Task 77 running time: 0.04303860664367676s\n",
      "Task 78 running time: 0.043039798736572266s\n",
      "Task 79 running time: 0.03803396224975586s\n",
      "Task 80 running time: 0.03803753852844238s\n",
      "Task 81 running time: 0.0420379638671875s\n",
      "Task 82 running time: 0.04404115676879883s\n",
      "Task 83 running time: 0.04404044151306152s\n",
      "Task 84 running time: 0.04303932189941406s\n",
      "Task 85 running time: 0.04269123077392578s\n",
      "Task 86 running time: 0.03903484344482422s\n",
      "Task 87 running time: 0.03803420066833496s\n",
      "Task 88 running time: 0.042038679122924805s\n",
      "Task 89 running time: 0.04404044151306152s\n",
      "Task 90 running time: 0.043038129806518555s\n",
      "Task 91 running time: 0.04403996467590332s\n",
      "Task 92 running time: 0.04203915596008301s\n",
      "Task 93 running time: 0.04003548622131348s\n",
      "Task 94 running time: 0.038036346435546875s\n",
      "Task 95 running time: 0.04003620147705078s\n",
      "Task 96 running time: 0.04103732109069824s\n",
      "Task 97 running time: 0.04203677177429199s\n",
      "Task 98 running time: 0.042038917541503906s\n",
      "Task 99 running time: 0.04103732109069824s\n",
      "Task 100 running time: 0.04103684425354004s\n",
      "Task 101 running time: 0.04003715515136719s\n",
      "Task 102 running time: 0.03803396224975586s\n",
      "Task 103 running time: 0.042038679122924805s\n",
      "Task 104 running time: 0.0420374870300293s\n",
      "Task 105 running time: 0.0420379638671875s\n",
      "Task 106 running time: 0.04203963279724121s\n",
      "Task 107 running time: 0.041929006576538086s\n",
      "Task 108 running time: 0.04103732109069824s\n",
      "Task 109 running time: 0.04103732109069824s\n",
      "Task 110 running time: 0.04303908348083496s\n",
      "Task 111 running time: 0.0420384407043457s\n",
      "Task 112 running time: 0.042038679122924805s\n",
      "Task 113 running time: 0.0420377254486084s\n",
      "Task 114 running time: 0.04204249382019043s\n",
      "Task 115 running time: 0.042038917541503906s\n",
      "Task 116 running time: 0.039038896560668945s\n",
      "Task 117 running time: 0.0420374870300293s\n",
      "Task 118 running time: 0.04604363441467285s\n",
      "Task 119 running time: 0.042041778564453125s\n",
      "Task 120 running time: 0.04103684425354004s\n",
      "Task 121 running time: 0.042041778564453125s\n",
      "Task 122 running time: 0.03903532028198242s\n",
      "Task 123 running time: 0.03903555870056152s\n",
      "Task 124 running time: 0.04004025459289551s\n",
      "Task 125 running time: 0.0420377254486084s\n",
      "Task 126 running time: 0.04204225540161133s\n",
      "Task 127 running time: 0.042038679122924805s\n",
      "Task 128 running time: 0.041901350021362305s\n",
      "Task 129 running time: 0.041037559509277344s\n",
      "Task 130 running time: 0.03903555870056152s\n",
      "Task 131 running time: 0.039038896560668945s\n",
      "Task 132 running time: 0.04103803634643555s\n",
      "Task 133 running time: 0.04103899002075195s\n",
      "Task 134 running time: 0.04103708267211914s\n",
      "Task 135 running time: 0.0420379638671875s\n",
      "Task 136 running time: 0.0400390625s\n",
      "Task 137 running time: 0.038034677505493164s\n",
      "Task 138 running time: 0.037033796310424805s\n",
      "Task 139 running time: 0.040036678314208984s\n",
      "Task 140 running time: 0.0420379638671875s\n",
      "Task 141 running time: 0.04103732109069824s\n",
      "Task 142 running time: 0.04103708267211914s\n",
      "Task 143 running time: 0.041037797927856445s\n",
      "Task 144 running time: 0.03903532028198242s\n",
      "Task 145 running time: 0.04103803634643555s\n",
      "Task 146 running time: 0.04303908348083496s\n",
      "Task 147 running time: 0.0420374870300293s\n",
      "Task 148 running time: 0.0420382022857666s\n",
      "Task 149 running time: 0.0420382022857666s\n",
      "Task 150 running time: 0.04304003715515137s\n",
      "Task 151 running time: 0.04303789138793945s\n",
      "Task 152 running time: 0.04103827476501465s\n",
      "Task 153 running time: 0.041037797927856445s\n",
      "Task 154 running time: 0.0420379638671875s\n",
      "Task 155 running time: 0.042038679122924805s\n",
      "Task 156 running time: 0.04303789138793945s\n",
      "Task 157 running time: 0.04103684425354004s\n",
      "Task 158 running time: 0.03903532028198242s\n",
      "Task 159 running time: 0.040036916732788086s\n",
      "Task 160 running time: 0.04303908348083496s\n",
      "Task 161 running time: 0.0420384407043457s\n",
      "Task 162 running time: 0.041036367416381836s\n",
      "Task 163 running time: 0.04203915596008301s\n",
      "Task 164 running time: 0.04003596305847168s\n",
      "Task 165 running time: 0.041037559509277344s\n",
      "Task 166 running time: 0.04404020309448242s\n",
      "Task 167 running time: 0.0420379638671875s\n",
      "Task 168 running time: 0.04203915596008301s\n",
      "Task 169 running time: 0.042037248611450195s\n",
      "Task 170 running time: 0.04204416275024414s\n",
      "Task 171 running time: 0.039029836654663086s\n",
      "Task 172 running time: 0.038034677505493164s\n",
      "Task 173 running time: 0.0420379638671875s\n",
      "Task 174 running time: 0.04404020309448242s\n",
      "Task 175 running time: 0.04303884506225586s\n",
      "Task 176 running time: 0.04504084587097168s\n",
      "Task 177 running time: 0.04303908348083496s\n",
      "Task 178 running time: 0.04103827476501465s\n",
      "Task 179 running time: 0.04103684425354004s\n",
      "Task 180 running time: 0.04103708267211914s\n",
      "Task 181 running time: 0.041037559509277344s\n",
      "Task 182 running time: 0.04103732109069824s\n",
      "Task 183 running time: 0.04103708267211914s\n",
      "Task 184 running time: 0.03903555870056152s\n",
      "Task 185 running time: 0.040036678314208984s\n",
      "Task 186 running time: 0.03903555870056152s\n",
      "Task 187 running time: 0.04103708267211914s\n",
      "Task 188 running time: 0.0420379638671875s\n",
      "Task 189 running time: 0.042038679122924805s\n",
      "Task 190 running time: 0.0420377254486084s\n",
      "Task 191 running time: 0.04103732109069824s\n",
      "Task 192 running time: 0.04003643989562988s\n",
      "Task 193 running time: 0.04103732109069824s\n",
      "Task 194 running time: 0.0420379638671875s\n",
      "Task 195 running time: 0.041037797927856445s\n",
      "Task 196 running time: 0.04103708267211914s\n",
      "Task 197 running time: 0.04003739356994629s\n",
      "Task 198 running time: 0.03903460502624512s\n",
      "Task 199 running time: 0.04003643989562988s\n",
      "------------------------------\n",
      "total runtime using normal execution: 8.306499242782593s\n"
     ]
    }
   ],
   "source": [
    "start = time.time()\n",
    "for i in range(200):  # run 200 tasks\n",
    "    cal_sum(name=f\"Task {i}\", number=10**6)\n",
    "end = time.time()\n",
    "print('-'*30)\n",
    "print(f\"total runtime using normal execution: {end - start}s\")"
   ]
  },
  {
   "cell_type": "markdown",
   "source": [
    "---\n",
    "In normal execution, the tasks run one by one."
   ],
   "metadata": {
    "collapsed": false,
    "pycharm": {
     "name": "#%% md\n"
    }
   }
  }
 ],
 "metadata": {
  "kernelspec": {
   "display_name": "Python 3 (ipykernel)",
   "language": "python",
   "name": "python3"
  },
  "language_info": {
   "codemirror_mode": {
    "name": "ipython",
    "version": 3
   },
   "file_extension": ".py",
   "mimetype": "text/x-python",
   "name": "python",
   "nbconvert_exporter": "python",
   "pygments_lexer": "ipython3",
   "version": "3.9.7"
  },
  "toc": {
   "base_numbering": 1,
   "nav_menu": {},
   "number_sections": true,
   "sideBar": true,
   "skip_h1_title": false,
   "title_cell": "Table of Contents",
   "title_sidebar": "Contents",
   "toc_cell": false,
   "toc_position": {},
   "toc_section_display": true,
   "toc_window_display": false
  }
 },
 "nbformat": 4,
 "nbformat_minor": 1
}