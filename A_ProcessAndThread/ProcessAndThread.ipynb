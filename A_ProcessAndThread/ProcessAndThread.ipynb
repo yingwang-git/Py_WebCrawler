{
 "cells": [
  {
   "cell_type": "markdown",
   "source": [
    "# Table of Content\n",
    "\n",
    "1. Multiple Processing\n",
    "   - Basic Usage\n",
    "   - Processing Pool\n",
    "2. Multiple Threading\n",
    "   - Basic Usage\n",
    "   - Threading Pool"
   ],
   "metadata": {
    "collapsed": false,
    "pycharm": {
     "name": "#%% md\n"
    }
   }
  },
  {
   "cell_type": "markdown",
   "source": [
    "# Multiple Processing"
   ],
   "metadata": {
    "collapsed": false
   }
  },
  {
   "cell_type": "markdown",
   "source": [
    "## Basic Usage"
   ],
   "metadata": {
    "collapsed": false
   }
  },
  {
   "cell_type": "code",
   "execution_count": 2,
   "outputs": [],
   "source": [
    "import time\n",
    "from random import randint  # for create random tasks\n",
    "from multiprocessing import Process  # multiple processing"
   ],
   "metadata": {
    "collapsed": false,
    "pycharm": {
     "name": "#%%\n"
    }
   }
  },
  {
   "cell_type": "code",
   "execution_count": 3,
   "outputs": [],
   "source": [
    "# define a virtual task\n",
    "def random_task(name):\n",
    "    task_time = randint(3, 8)  # execute task randomly for 3 to 8 seconds\n",
    "    time.sleep(task_time)\n",
    "    print(f'task {name} running time: {task_time}s')"
   ],
   "metadata": {
    "collapsed": false,
    "pycharm": {
     "name": "#%%\n"
    }
   }
  },
  {
   "cell_type": "code",
   "execution_count": 4,
   "outputs": [],
   "source": [
    "# normal execute tasks\n",
    "def normal_run():\n",
    "    start_main = time.time()\n",
    "    random_task('normal execute task 1')\n",
    "    random_task('normal execute task 2')\n",
    "    end_main = time.time()\n",
    "    print(f'total running time using normal execute: {end_main - start_main}s')"
   ],
   "metadata": {
    "collapsed": false,
    "pycharm": {
     "name": "#%%\n"
    }
   }
  },
  {
   "cell_type": "code",
   "execution_count": 5,
   "outputs": [],
   "source": [
    "# multiple processing\n",
    "def multi_process():\n",
    "    start_process = time.time()\n",
    "    t1 = Process(target=random_task, args=('multi processing task 1', ))  # create new process，args should be tuple\n",
    "    t1.start()  #  告诉进程可以开始执行，具体执行开始时间由 CPU 决定\n",
    "    t2 = Process(target=random_task, args=('multi processing task 2', ))\n",
    "    t2.start()\n",
    "    t1.join()  # join() 方法，等待进程执行结束再往下执行主程序（为了统计时间）\n",
    "    t2.join()\n",
    "    end_process = time.time()\n",
    "    print(f'total running time using multiple processing {end_process - start_process}s')"
   ],
   "metadata": {
    "collapsed": false,
    "pycharm": {
     "name": "#%%\n"
    }
   }
  },
  {
   "cell_type": "code",
   "execution_count": 6,
   "outputs": [
    {
     "name": "stdout",
     "output_type": "stream",
     "text": [
      "------------------------------\n",
      "task normal execute task 1 running time: 6s\n",
      "task normal execute task 2 running time: 5s\n",
      "total running time using normal execute: 11.019636154174805s\n",
      "------------------------------\n",
      "total running time using multiple processing 0.09808969497680664s\n"
     ]
    }
   ],
   "source": [
    "print('-'*30)\n",
    "normal_run()\n",
    "print('-'*30)\n",
    "multi_process()"
   ],
   "metadata": {
    "collapsed": false,
    "pycharm": {
     "name": "#%%\n"
    }
   }
  },
  {
   "cell_type": "markdown",
   "source": [
    "## Processing Pool"
   ],
   "metadata": {
    "collapsed": false,
    "pycharm": {
     "name": "#%% md\n"
    }
   }
  },
  {
   "cell_type": "markdown",
   "source": [
    "# Multiple Treading"
   ],
   "metadata": {
    "collapsed": false,
    "pycharm": {
     "name": "#%% md\n"
    }
   }
  },
  {
   "cell_type": "markdown",
   "source": [
    "## Basic Usage"
   ],
   "metadata": {
    "collapsed": false,
    "pycharm": {
     "name": "#%% md\n"
    }
   }
  },
  {
   "cell_type": "code",
   "execution_count": 7,
   "outputs": [],
   "source": [
    "from threading import Thread   # multiple threading"
   ],
   "metadata": {
    "collapsed": false,
    "pycharm": {
     "name": "#%%\n"
    }
   }
  },
  {
   "cell_type": "code",
   "execution_count": 11,
   "outputs": [],
   "source": [
    "# multiple treading\n",
    "def multi_thread():\n",
    "    start_thread = time.time()\n",
    "    t1 = Thread(target=random_task, args=('multi threading task 1', ))  # create new thread，args should be tuple\n",
    "    t1.start()  # 告诉线程可以开始执行，具体执行开始时间由 CPU 决定\n",
    "    t2 = Thread(target=random_task, args=('multi threading task 2', ))\n",
    "    t2.start()\n",
    "    t1.join()  # join() 方法，等待线程执行结束再往下执行主程序（为了统计时间）\n",
    "    t2.join()\n",
    "    end_thread = time.time()\n",
    "    print(f'total running time using multiple threading {end_thread - start_thread}s')"
   ],
   "metadata": {
    "collapsed": false,
    "pycharm": {
     "name": "#%%\n"
    }
   }
  },
  {
   "cell_type": "code",
   "execution_count": 12,
   "outputs": [
    {
     "name": "stdout",
     "output_type": "stream",
     "text": [
      "------------------------------\n",
      "task normal execute task 1 running time: 5s\n",
      "task normal execute task 2 running time: 7s\n",
      "total running time using normal execute: 12.006919622421265s\n",
      "------------------------------\n",
      "task multi threading task 2 running time: 7stask multi threading task 1 running time: 7s\n",
      "\n",
      "total running time using multiple threading 7.00565242767334s\n"
     ]
    }
   ],
   "source": [
    "print('-'*30)\n",
    "normal_run()\n",
    "print('-'*30)\n",
    "multi_thread()"
   ],
   "metadata": {
    "collapsed": false,
    "pycharm": {
     "name": "#%%\n"
    }
   }
  },
  {
   "cell_type": "markdown",
   "source": [
    "## Threading Pool"
   ],
   "metadata": {
    "collapsed": false,
    "pycharm": {
     "name": "#%% md\n"
    }
   }
  },
  {
   "cell_type": "code",
   "execution_count": null,
   "outputs": [],
   "source": [],
   "metadata": {
    "collapsed": false,
    "pycharm": {
     "name": "#%%\n"
    }
   }
  }
 ],
 "metadata": {
  "kernelspec": {
   "display_name": "Python 3",
   "language": "python",
   "name": "python3"
  },
  "language_info": {
   "codemirror_mode": {
    "name": "ipython",
    "version": 2
   },
   "file_extension": ".py",
   "mimetype": "text/x-python",
   "name": "python",
   "nbconvert_exporter": "python",
   "pygments_lexer": "ipython2",
   "version": "2.7.6"
  }
 },
 "nbformat": 4,
 "nbformat_minor": 0
}